{
 "cells": [
  {
   "cell_type": "markdown",
   "metadata": {},
   "source": [
    "# functions\n",
    "- user defined functions\n",
    "  - user can build his own logic\n",
    "    - def fun_name():\n",
    " ## without passing argument and without return\n",
    " "
   ]
  },
  {
   "cell_type": "code",
   "execution_count": 3,
   "metadata": {},
   "outputs": [
    {
     "name": "stdout",
     "output_type": "stream",
     "text": [
      "hello\n",
      "hi\n",
      "mahi\n",
      "over\n"
     ]
    }
   ],
   "source": [
    "def fun_name():\n",
    "    print(\"hello\")\n",
    "    print(\"hi\")\n",
    "    print(\"mahi\")\n",
    "fun_name()\n",
    "print(\"over\")"
   ]
  },
  {
   "cell_type": "code",
   "execution_count": 4,
   "metadata": {},
   "outputs": [
    {
     "ename": "NameError",
     "evalue": "name 'hello' is not defined",
     "output_type": "error",
     "traceback": [
      "\u001b[1;31m---------------------------------------------------------------------------\u001b[0m",
      "\u001b[1;31mNameError\u001b[0m                                 Traceback (most recent call last)",
      "\u001b[1;32m<ipython-input-4-5a4d6e6fff78>\u001b[0m in \u001b[0;36m<module>\u001b[1;34m\u001b[0m\n\u001b[1;32m----> 1\u001b[1;33m \u001b[0mhello\u001b[0m\u001b[1;33m(\u001b[0m\u001b[1;33m)\u001b[0m\u001b[1;33m\u001b[0m\u001b[1;33m\u001b[0m\u001b[0m\n\u001b[0m\u001b[0;32m      2\u001b[0m \u001b[1;32mdef\u001b[0m \u001b[0mhello\u001b[0m\u001b[1;33m(\u001b[0m\u001b[1;33m)\u001b[0m\u001b[1;33m:\u001b[0m\u001b[1;33m\u001b[0m\u001b[1;33m\u001b[0m\u001b[0m\n\u001b[0;32m      3\u001b[0m     \u001b[0mprint\u001b[0m\u001b[1;33m(\u001b[0m\u001b[1;34m\"jvj\"\u001b[0m\u001b[1;33m)\u001b[0m\u001b[1;33m\u001b[0m\u001b[1;33m\u001b[0m\u001b[0m\n\u001b[0;32m      4\u001b[0m     \u001b[0mprint\u001b[0m\u001b[1;33m(\u001b[0m\u001b[1;34m\"nvkfjnmfn\"\u001b[0m\u001b[1;33m)\u001b[0m\u001b[1;33m\u001b[0m\u001b[1;33m\u001b[0m\u001b[0m\n",
      "\u001b[1;31mNameError\u001b[0m: name 'hello' is not defined"
     ]
    }
   ],
   "source": [
    "hello()\n",
    "def hello():\n",
    "    print(\"jvj\")\n",
    "    print(\"nvkfjnmfn\")"
   ]
  },
  {
   "cell_type": "code",
   "execution_count": 6,
   "metadata": {},
   "outputs": [
    {
     "name": "stdout",
     "output_type": "stream",
     "text": [
      "i am  without passing argument and without return\n"
     ]
    }
   ],
   "source": [
    "# without passing argument and without return \n",
    "def show():\n",
    "    print(\"i am  without passing argument and without return\")\n",
    "show()"
   ]
  },
  {
   "cell_type": "code",
   "execution_count": 11,
   "metadata": {},
   "outputs": [
    {
     "name": "stdout",
     "output_type": "stream",
     "text": [
      "am without passing argument and  return value\n"
     ]
    }
   ],
   "source": [
    "# without passing argument and return value\n",
    "def display():\n",
    "    return \"am without passing argument and  return value\"\n",
    "# print(display()) \n",
    "rs=display()\n",
    "print(rs)"
   ]
  },
  {
   "cell_type": "code",
   "execution_count": 13,
   "metadata": {},
   "outputs": [
    {
     "name": "stdout",
     "output_type": "stream",
     "text": [
      "add of num1 and num2 is: 18\n"
     ]
    }
   ],
   "source": [
    "# passing arguments and without return result\n",
    "def add(num1,num2):\n",
    "    print(\"add of num1 and num2 is:\",num1+num2)\n",
    "add(12,6)\n",
    "    "
   ]
  },
  {
   "cell_type": "code",
   "execution_count": 17,
   "metadata": {},
   "outputs": [
    {
     "name": "stdout",
     "output_type": "stream",
     "text": [
      "enter n1 value24\n",
      "enter n2 value6\n",
      "add of numbers: 30\n",
      "sub of numbers: 18\n",
      "mul of numbers: 144\n",
      "div of numbers: 4.0\n",
      "mod of numbers: 0\n",
      "expo of numbers: 191102976\n",
      "floor of numbers: 4\n"
     ]
    }
   ],
   "source": [
    "# passing argument and  return value\n",
    "def add(num1,num2):\n",
    "    return num1+num2\n",
    "def sub(num1,num2):\n",
    "    return num1-num2\n",
    "def mul(num1,num2):\n",
    "    return num1*num2\n",
    "def div(num1,num2):\n",
    "    return num1/num2\n",
    "def mod(num1,num2):\n",
    "    return num1%num2\n",
    "def expo(num1,num2):\n",
    "    return num1**num2\n",
    "def floor(num1,num2):\n",
    "    return num1//num2\n",
    "n1=int(input(\"enter n1 value\"))\n",
    "n2=int(input(\"enter n2 value\"))\n",
    "print(\"add of numbers:\",add(n1,n2))\n",
    "print(\"sub of numbers:\",sub(n1,n2))\n",
    "print(\"mul of numbers:\",mul(n1,n2))\n",
    "print(\"div of numbers:\",div(n1,n2))\n",
    "print(\"mod of numbers:\",mod(n1,n2))\n",
    "print(\"expo of numbers:\",expo(n1,n2))\n",
    "print(\"floor of numbers:\",floor(n1,n2))"
   ]
  },
  {
   "cell_type": "markdown",
   "metadata": {},
   "source": [
    "# in python we can use four more ways of user definrd functions\n",
    "- DEFAULT ARGUMENTS\n",
    "- REQUIRED ARGUMENTS\n",
    "- KEYWORD ARGUMENTS\n",
    "- VARIABLE ARGUMENTS"
   ]
  },
  {
   "cell_type": "code",
   "execution_count": 30,
   "metadata": {},
   "outputs": [
    {
     "name": "stdout",
     "output_type": "stream",
     "text": [
      "HELLO hii ksrm college\n"
     ]
    }
   ],
   "source": [
    "#*************************DEFAULT ARGUMENTS*******************************\n",
    "print(\"HELLO\",end=\" \")\n",
    "print(\"hii\",end=\" \")\n",
    "print(\"ksrm college\")"
   ]
  },
  {
   "cell_type": "code",
   "execution_count": 36,
   "metadata": {},
   "outputs": [
    {
     "name": "stdout",
     "output_type": "stream",
     "text": [
      "5\n",
      "6\n",
      "5 7 19\n"
     ]
    }
   ],
   "source": [
    " #*****************example**********************\n",
    "def add(n1=0,n2=0,n3=0):\n",
    "    return n1+n2+n3\n",
    "print(add(5))\n",
    "print(add(2,4))\n",
    "print(add(5),add(2,5),add(4,7,8))"
   ]
  },
  {
   "cell_type": "code",
   "execution_count": 44,
   "metadata": {},
   "outputs": [
    {
     "ename": "TypeError",
     "evalue": "mul() missing 1 required positional argument: 'b'",
     "output_type": "error",
     "traceback": [
      "\u001b[1;31m---------------------------------------------------------------------------\u001b[0m",
      "\u001b[1;31mTypeError\u001b[0m                                 Traceback (most recent call last)",
      "\u001b[1;32m<ipython-input-44-18dd3e82eb75>\u001b[0m in \u001b[0;36m<module>\u001b[1;34m\u001b[0m\n\u001b[0;32m      3\u001b[0m \u001b[1;32mdef\u001b[0m \u001b[0mmul\u001b[0m\u001b[1;33m(\u001b[0m\u001b[0ma\u001b[0m\u001b[1;33m,\u001b[0m\u001b[0mb\u001b[0m\u001b[1;33m)\u001b[0m\u001b[1;33m:\u001b[0m\u001b[1;33m\u001b[0m\u001b[1;33m\u001b[0m\u001b[0m\n\u001b[0;32m      4\u001b[0m     \u001b[1;32mreturn\u001b[0m \u001b[0ma\u001b[0m\u001b[1;33m*\u001b[0m\u001b[0mb\u001b[0m\u001b[1;33m\u001b[0m\u001b[1;33m\u001b[0m\u001b[0m\n\u001b[1;32m----> 5\u001b[1;33m \u001b[0mprint\u001b[0m\u001b[1;33m(\u001b[0m\u001b[0mmul\u001b[0m\u001b[1;33m(\u001b[0m\u001b[1;36m5\u001b[0m\u001b[1;33m)\u001b[0m\u001b[1;33m)\u001b[0m\u001b[1;33m\u001b[0m\u001b[1;33m\u001b[0m\u001b[0m\n\u001b[0m",
      "\u001b[1;31mTypeError\u001b[0m: mul() missing 1 required positional argument: 'b'"
     ]
    }
   ],
   "source": [
    "#*************************REQUIRED ARGUMENTS******************************\n",
    "# example range()\n",
    "def mul(a,b):\n",
    "    return a*b\n",
    "print(mul(5))"
   ]
  },
  {
   "cell_type": "code",
   "execution_count": 49,
   "metadata": {},
   "outputs": [
    {
     "name": "stdout",
     "output_type": "stream",
     "text": [
      "1\n",
      "16\n"
     ]
    }
   ],
   "source": [
    "#************************KEYWORD ARGUMENTS********************************\n",
    "# example print(end=\"\")\n",
    "def power(base,ex=0):\n",
    "    return base**ex\n",
    "print(power(3))\n",
    "print(power(ex=2,base=4))"
   ]
  },
  {
   "cell_type": "code",
   "execution_count": 60,
   "metadata": {},
   "outputs": [
    {
     "name": "stdout",
     "output_type": "stream",
     "text": [
      "7\n",
      "<class 'tuple'>\n",
      "sum of vals is: 28\n"
     ]
    }
   ],
   "source": [
    "#*************************VARIABLE ARGUMENTS**********************************\n",
    "def sm(*vals):                         #tuples are immutable means does not update anddelete\n",
    "    print(len(vals))               \n",
    "    print(type(vals))\n",
    "    print(\"sum of vals is:\",sum(vals))\n",
    "sm(1,2,3,4,5,6,7)"
   ]
  },
  {
   "cell_type": "code",
   "execution_count": 62,
   "metadata": {},
   "outputs": [
    {
     "name": "stdout",
     "output_type": "stream",
     "text": [
      "7\n",
      "<class 'list'>\n",
      "sum of vals is: 28\n"
     ]
    }
   ],
   "source": [
    "# another example*****\n",
    "def sm(vals):                         #tuples are immutable means does not update anddelete\n",
    "    print(len(vals))               \n",
    "    print(type(vals))\n",
    "    print(\"sum of vals is:\",sum(vals))\n",
    "sm([1,2,3,4,5,6,7])"
   ]
  },
  {
   "cell_type": "code",
   "execution_count": 47,
   "metadata": {},
   "outputs": [
    {
     "name": "stdout",
     "output_type": "stream",
     "text": [
      "\n",
      "Here is a list of the Python keywords.  Enter any keyword to get more help.\n",
      "\n",
      "False               class               from                or\n",
      "None                continue            global              pass\n",
      "True                def                 if                  raise\n",
      "and                 del                 import              return\n",
      "as                  elif                in                  try\n",
      "assert              else                is                  while\n",
      "async               except              lambda              with\n",
      "await               finally             nonlocal            yield\n",
      "break               for                 not                 \n",
      "\n"
     ]
    }
   ],
   "source": [
    "help('keywords')"
   ]
  },
  {
   "cell_type": "markdown",
   "metadata": {},
   "source": [
    "# conditional control statements\n",
    "- it controls flow of program execution based on condition\n",
    "- 3 types\n",
    "  - conditional statements\n",
    "    - if\n",
    "    - if else\n",
    "    - if else ladder\n",
    "    - nested if else\n",
    "    \n",
    "  - iterative statements or looping statements\n",
    "  - jumping statements"
   ]
  },
  {
   "cell_type": "code",
   "execution_count": 65,
   "metadata": {},
   "outputs": [
    {
     "name": "stdout",
     "output_type": "stream",
     "text": [
      "true\n"
     ]
    }
   ],
   "source": [
    "#***************conditional statements*****\n",
    "if 4<5:\n",
    "    print(\"true\")"
   ]
  },
  {
   "cell_type": "code",
   "execution_count": 67,
   "metadata": {},
   "outputs": [
    {
     "name": "stdout",
     "output_type": "stream",
     "text": [
      "else block\n",
      "ur smaller\n"
     ]
    }
   ],
   "source": [
    "#***************another example****************\n",
    "if 6<5:\n",
    "    print(\"if block\")\n",
    "    print(\"ur bigger\")\n",
    "else:\n",
    "    print(\"else block\")\n",
    "    print(\"ur smaller\")"
   ]
  }
 ],
 "metadata": {
  "kernelspec": {
   "display_name": "Python 3",
   "language": "python",
   "name": "python3"
  },
  "language_info": {
   "codemirror_mode": {
    "name": "ipython",
    "version": 3
   },
   "file_extension": ".py",
   "mimetype": "text/x-python",
   "name": "python",
   "nbconvert_exporter": "python",
   "pygments_lexer": "ipython3",
   "version": "3.7.3"
  }
 },
 "nbformat": 4,
 "nbformat_minor": 2
}
