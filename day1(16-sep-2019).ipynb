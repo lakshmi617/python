{
 "cells": [
  {
   "cell_type": "code",
   "execution_count": 11,
   "metadata": {},
   "outputs": [
    {
     "name": "stdout",
     "output_type": "stream",
     "text": [
      "hii hello mahi\n",
      "welcome to APSSDC\n"
     ]
    }
   ],
   "source": [
    "print(\"hii hello mahi\")\n",
    "print(\"welcome to APSSDC\")\n"
   ]
  },
  {
   "cell_type": "code",
   "execution_count": 13,
   "metadata": {},
   "outputs": [
    {
     "data": {
      "text/plain": [
       "20"
      ]
     },
     "execution_count": 13,
     "metadata": {},
     "output_type": "execute_result"
    }
   ],
   "source": [
    "9+11"
   ]
  },
  {
   "cell_type": "markdown",
   "metadata": {},
   "source": [
    "shift+enter    gives result as well as new cell"
   ]
  },
  {
   "cell_type": "code",
   "execution_count": 15,
   "metadata": {},
   "outputs": [
    {
     "data": {
      "text/plain": [
       "333"
      ]
     },
     "execution_count": 15,
     "metadata": {},
     "output_type": "execute_result"
    }
   ],
   "source": [
    "111+222"
   ]
  },
  {
   "cell_type": "markdown",
   "metadata": {},
   "source": [
    "ctrl+enter    gives result only"
   ]
  },
  {
   "cell_type": "markdown",
   "metadata": {},
   "source": [
    "(#)is used for size of text,h1 size=#,h2 size=##"
   ]
  },
  {
   "cell_type": "markdown",
   "metadata": {},
   "source": [
    "# hii\n",
    "## hii \n",
    "### hii\n",
    "\n",
    "<p>it is first paragraph</p>\n",
    "<p><b>this is second paragraph</b></p>\n",
    "<img src=\"python_logo.png\" height=\"150px\" width=\"150px\">\n",
    "\n",
    "## HTML LIST\n",
    "- UNORDERED LIST\n",
    "   - ul tag with li tag\n",
    "- ORDERED LIST\n",
    "     - ol tag with li tag\n",
    "\n",
    "\n",
    "<a href=\"#\">click here for advanced</a>\n",
    "     "
   ]
  },
  {
   "cell_type": "code",
   "execution_count": null,
   "metadata": {},
   "outputs": [],
   "source": []
  }
 ],
 "metadata": {
  "kernelspec": {
   "display_name": "Python 3",
   "language": "python",
   "name": "python3"
  },
  "language_info": {
   "codemirror_mode": {
    "name": "ipython",
    "version": 3
   },
   "file_extension": ".py",
   "mimetype": "text/x-python",
   "name": "python",
   "nbconvert_exporter": "python",
   "pygments_lexer": "ipython3",
   "version": "3.7.3"
  }
 },
 "nbformat": 4,
 "nbformat_minor": 2
}
