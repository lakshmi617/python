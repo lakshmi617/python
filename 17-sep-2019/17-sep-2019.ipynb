{
 "cells": [
  {
   "cell_type": "markdown",
   "metadata": {},
   "source": [
    "# day objectives\n",
    "- python introduction\n",
    "- python variables\n",
    "- operators\n",
    "- string and string functions"
   ]
  },
  {
   "cell_type": "markdown",
   "metadata": {},
   "source": [
    "##  python introduction\n",
    "### defining python\n",
    "- high level language\n",
    "- interpreter\n",
    "- oop's\n",
    "- multipurpose\n",
    "- dynamic"
   ]
  },
  {
   "cell_type": "code",
   "execution_count": 7,
   "metadata": {},
   "outputs": [
    {
     "name": "stdout",
     "output_type": "stream",
     "text": [
      "<class 'int'>\n",
      "<class 'float'>\n",
      "<class 'str'>\n"
     ]
    },
    {
     "data": {
      "text/plain": [
       "'apssdc'"
      ]
     },
     "execution_count": 7,
     "metadata": {},
     "output_type": "execute_result"
    }
   ],
   "source": [
    "c=0\n",
    "type(c)\n",
    "print(type(c))\n",
    "c=5/2\n",
    "c\n",
    "print(type(c))\n",
    "c=\"apssdc\"\n",
    "print(type(c))\n",
    "c"
   ]
  },
  {
   "cell_type": "markdown",
   "metadata": {},
   "source": [
    "# variables:\n",
    "- variable is datatype that stores  value temporarily\n",
    "\n",
    "### variable assignments\n",
    "- assign single value to multiple variable\n",
    "- assign different values in different variables in a line\n",
    "\n",
    "- by using second way we can perform swapping without using temp"
   ]
  },
  {
   "cell_type": "code",
   "execution_count": 13,
   "metadata": {},
   "outputs": [
    {
     "name": "stdout",
     "output_type": "stream",
     "text": [
      "10\n",
      "10\n",
      "10\n"
     ]
    }
   ],
   "source": [
    "a=b=c=10\n",
    "print(a)\n",
    "print(b)\n",
    "print(c)\n"
   ]
  },
  {
   "cell_type": "code",
   "execution_count": 21,
   "metadata": {},
   "outputs": [
    {
     "name": "stdout",
     "output_type": "stream",
     "text": [
      "apssdc <class 'str'>\n",
      "12.5 <class 'float'>\n",
      "23456 <class 'int'>\n"
     ]
    },
    {
     "data": {
      "text/plain": [
       "('apssdc', 12.5, 23456)"
      ]
     },
     "execution_count": 21,
     "metadata": {},
     "output_type": "execute_result"
    }
   ],
   "source": [
    "name,age,rollno=\"apssdc\",12.5,23456\n",
    "print(name,type(name))\n",
    "print(age,type(age))\n",
    "print(rollno,type(rollno))\n",
    "name,age,rollno"
   ]
  },
  {
   "cell_type": "code",
   "execution_count": 28,
   "metadata": {},
   "outputs": [
    {
     "name": "stdout",
     "output_type": "stream",
     "text": [
      "10 20\n",
      "20 10\n"
     ]
    }
   ],
   "source": [
    "a,b=10,20\n",
    "print(a,b)\n",
    "b,a=a,b\n",
    "print(a,b)\n"
   ]
  },
  {
   "cell_type": "code",
   "execution_count": 30,
   "metadata": {},
   "outputs": [
    {
     "data": {
      "text/plain": [
       "(20, 10)"
      ]
     },
     "execution_count": 30,
     "metadata": {},
     "output_type": "execute_result"
    }
   ],
   "source": [
    "a,b=10,20\n",
    "a=a+b\n",
    "b=a-b\n",
    "a=a-b\n",
    "a,b"
   ]
  },
  {
   "cell_type": "markdown",
   "metadata": {},
   "source": [
    "###  reading values from user\n",
    "- we can use input()for reading values from user"
   ]
  },
  {
   "cell_type": "code",
   "execution_count": 32,
   "metadata": {},
   "outputs": [
    {
     "name": "stdout",
     "output_type": "stream",
     "text": [
      "enter a value456\n"
     ]
    },
    {
     "data": {
      "text/plain": [
       "'456'"
      ]
     },
     "execution_count": 32,
     "metadata": {},
     "output_type": "execute_result"
    }
   ],
   "source": [
    "a=int(input(\"enter a value\"))\n",
    "a"
   ]
  },
  {
   "cell_type": "code",
   "execution_count": 34,
   "metadata": {},
   "outputs": [
    {
     "name": "stdout",
     "output_type": "stream",
     "text": [
      "enter value99\n",
      "<class 'int'>\n"
     ]
    }
   ],
   "source": [
    "b=int(input(\"enter value\"))\n",
    "print(type(b))"
   ]
  },
  {
   "cell_type": "code",
   "execution_count": 1,
   "metadata": {},
   "outputs": [
    {
     "name": "stdout",
     "output_type": "stream",
     "text": [
      "enter name:lucky\n",
      "welcome lucky\n"
     ]
    }
   ],
   "source": [
    "name=str(input(\"enter name:\"))\n",
    "print(\"welcome\",name)"
   ]
  },
  {
   "cell_type": "markdown",
   "metadata": {},
   "source": [
    "# modes of execution\n",
    "- we have two ways\n",
    "   - interactive mode\n",
    "      - we can write something and we can see result there only\n",
    "   - EScripting mode(filename.py)\n",
    "       -we can build logic in file\n",
    "     \n",
    "     "
   ]
  },
  {
   "cell_type": "markdown",
   "metadata": {},
   "source": [
    "# operators:\n",
    "- perform arithemetic operations\n",
    "\n",
    "## types:\n",
    "- arithemetic operators--->+,-,*,/,%,//->floor division,**-->exponential\n",
    "\n",
    "- logical operators-->compare two conditions-->in python and,or,not\n",
    "\n",
    "- relational operators-->>,>=,<,<=,==,!=\n",
    "\n",
    "- bitwise operators-->like truth tables-->&,|,<<(leftshift),>>(rightshift)\n",
    "\n",
    "- identity operators-->is,is not\n",
    "\n",
    "- assignment operators-->+=,-=,*=,/=,<=,>=,//=,**=\n",
    "\n",
    "- membership operators-->in,not in"
   ]
  },
  {
   "cell_type": "code",
   "execution_count": 6,
   "metadata": {},
   "outputs": [
    {
     "data": {
      "text/plain": [
       "False"
      ]
     },
     "execution_count": 6,
     "metadata": {},
     "output_type": "execute_result"
    }
   ],
   "source": [
    "5<=5\n",
    "a,b=5,6\n",
    "a>b\n"
   ]
  },
  {
   "cell_type": "code",
   "execution_count": 11,
   "metadata": {},
   "outputs": [
    {
     "data": {
      "text/plain": [
       "False"
      ]
     },
     "execution_count": 11,
     "metadata": {},
     "output_type": "execute_result"
    }
   ],
   "source": [
    "a,b,c,d=2,3,4,5\n",
    "a>b or c>d"
   ]
  },
  {
   "cell_type": "code",
   "execution_count": 14,
   "metadata": {},
   "outputs": [
    {
     "data": {
      "text/plain": [
       "2"
      ]
     },
     "execution_count": 14,
     "metadata": {},
     "output_type": "execute_result"
    }
   ],
   "source": [
    "2&3\n",
    "# \"\"\"\n",
    "# jfbvfklrkl\n",
    "# shcjwelfjlk\n",
    "# dvklejgbklrej\n",
    "# \"\"\""
   ]
  },
  {
   "cell_type": "code",
   "execution_count": 17,
   "metadata": {},
   "outputs": [
    {
     "data": {
      "text/plain": [
       "1"
      ]
     },
     "execution_count": 17,
     "metadata": {},
     "output_type": "execute_result"
    }
   ],
   "source": [
    "2>>1"
   ]
  },
  {
   "cell_type": "code",
   "execution_count": 20,
   "metadata": {},
   "outputs": [
    {
     "data": {
      "text/plain": [
       "101"
      ]
     },
     "execution_count": 20,
     "metadata": {},
     "output_type": "execute_result"
    }
   ],
   "source": [
    "a=1\n",
    "a +=100\n",
    "a"
   ]
  },
  {
   "cell_type": "code",
   "execution_count": 26,
   "metadata": {},
   "outputs": [
    {
     "data": {
      "text/plain": [
       "True"
      ]
     },
     "execution_count": 26,
     "metadata": {},
     "output_type": "execute_result"
    }
   ],
   "source": [
    "arr=[1,2,3,4,5]\n",
    "7 in arr\n",
    "50 not in arr"
   ]
  },
  {
   "cell_type": "code",
   "execution_count": 35,
   "metadata": {},
   "outputs": [
    {
     "data": {
      "text/plain": [
       "2687543408768"
      ]
     },
     "execution_count": 35,
     "metadata": {},
     "output_type": "execute_result"
    }
   ],
   "source": [
    "2 is  3 \n",
    "'abc' is not 'abc'\n",
    "id(2)\n",
    "id('abc')"
   ]
  },
  {
   "cell_type": "code",
   "execution_count": null,
   "metadata": {},
   "outputs": [],
   "source": [
    "a="
   ]
  }
 ],
 "metadata": {
  "kernelspec": {
   "display_name": "Python 3",
   "language": "python",
   "name": "python3"
  },
  "language_info": {
   "codemirror_mode": {
    "name": "ipython",
    "version": 3
   },
   "file_extension": ".py",
   "mimetype": "text/x-python",
   "name": "python",
   "nbconvert_exporter": "python",
   "pygments_lexer": "ipython3",
   "version": "3.7.3"
  }
 },
 "nbformat": 4,
 "nbformat_minor": 2
}
